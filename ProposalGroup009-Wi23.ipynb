{
 "cells": [
  {
   "attachments": {},
   "cell_type": "markdown",
   "metadata": {},
   "source": [
    "# COGS 118A Group 9 - Project Proposal"
   ]
  },
  {
   "attachments": {},
   "cell_type": "markdown",
   "metadata": {},
   "source": [
    "# Names\n",
    "\n",
    "* Ellie Zou\n",
    "* Qiqing Li\n",
    "* Walter Qiu\n",
    "* Yaosen Zhang\n",
    "* Yutao Ye"
   ]
  },
  {
   "attachments": {},
   "cell_type": "markdown",
   "metadata": {},
   "source": [
    "# Abstract \n",
    "A collected data from the UCI Machine Learning Repository of wine-evaluation from experts that can help consumers select wines that meet their taste preferences has inspired us to build a model to predict the quality of a wine. The data presents wine’s chemical ingredients from physicochemical tests as well as their quality scores ranging from 0 to 10. We will use these variables to form the input feature and output label of our model and build a supvised learning process."
   ]
  },
  {
   "attachments": {},
   "cell_type": "markdown",
   "metadata": {},
   "source": [
    "# Background\n",
    "Wine is an alcohol drink made from grapes by fermentation and is one of the longest processed beverages in human drinking history. From the Romberg & Fredrikson report, the total wine sales from the U.S. wine market were $78.4 billion which included domestic and imported wine<a name=\"wine_trend\"></a>[<sup>[1]</sup>](#Liz). Wine is currently the world's largest production, the most popular brewing wine. Nowadays, there is a market that sells poor quality, or counterfeit wines, many businesses profit from the sale of fake wine, some of which ordinary people can't even taste the difference with the real wine. The pandemic increases the opportunity for fraudulent wine due to travel restrictions, shutdowns, and even layoffs throughout industry channels<a name=\"fraud_wine\"></a>[<sup>[2]</sup>](#Lana). To make the customer easier to distinguish the fake wine,  we want to be able to identify the quality of the wine. And different people have different standards for wine.  It is difficult to have a unified standard if it is purely identified by people. By using some fancy machine learning techniques, we expect to easily identify the quality of the wine even if we are not the wine experts. We want to have a unified standard to identify the quality of the various chemicals present in wine."
   ]
  },
  {
   "cell_type": "markdown",
   "metadata": {},
   "source": [
    "# Problem Statement\n",
    "Flavor variations occur due to the presence of different chemicals in different wines and differences in various conditions. Manipulating these variables can result in a wine with a better flavor profile. Variability and noise play an important role when understanding a situation like this is required, and statistical models are very effective at identifying key inputs from seemingly utterly chaotic data. This article details how wine tasting data and powerful modeling techniques provide insight into a set of variables that are important to an experienced group. Therefore, we aimed to study potential influencing factors affecting wine quality through various regression models to determine whether there is a clear correlation between these potential factors and quality changes.\n"
   ]
  },
  {
   "attachments": {},
   "cell_type": "markdown",
   "metadata": {},
   "source": [
    "# Data\n",
    "Our dataset is the [Wine Quality Data Set](https://archive.ics.uci.edu/ml/datasets/wine+quality) from UCI Machine Learning Repository. The dataset contains 1599 and 4898 samples of the red and white variants of the Portuguese \"Vinho Verde\" wine, respectively. For each sample, there are input-wise variables based on objective tests (e.g. PH values) and output-wise variables based on sensory data (median of at least 3 evaluations made by wine experts). Each expert graded the wine quality \n",
    "between 0 (very bad) and 10 (very excellent). We will use the given physicochemical variables as our input features and the quality scores as the output label. Meanwhile, we treat the wine type (red/white) as an extra input variable. However, since our dataset contains less than 7000 samples, it may not be sufficiently large given that we have more than 10 variables. Meanwhile, the data of wines was collected at 2009, which is potentially outdated. Also, wine tastes vary from person to person, and the scores from the experts may not reflect a general fact.\n",
    "* Here are the 12 input feature variables and 1 output label variable:\n",
    "    * fixed acidity\n",
    "    * volatile acidity\n",
    "    * citric acid\n",
    "    * residual sugar\n",
    "    * chlorides\n",
    "    * free sulfur dioxide\n",
    "    * total sulfur dioxide\n",
    "    * density\n",
    "    * pH\n",
    "    * sulphates\n",
    "    * alcohol\n",
    "    * Type of wine (white or red) \n",
    "    * quality (score 0 to 10)\n",
    "\n"
   ]
  },
  {
   "attachments": {},
   "cell_type": "markdown",
   "metadata": {},
   "source": [
    "# Proposed Solution\n",
    "Since our primary goal is to predict the quality of the test wine which arranges from score 0 to score 10, we have basically a 11-class classification problem. We propose the following algorithms to generate several models to find the best candidate solution.\n",
    "* K-nearest neighbor classifier\n",
    "* Multiple binary classifier based on SVM\n",
    "* Decision tree\n",
    "* Softmax regression (can be turned into classification)\n",
    "* Deep neural network"
   ]
  },
  {
   "attachments": {},
   "cell_type": "markdown",
   "metadata": {},
   "source": [
    "# Evaluation Metrics\n",
    "To measure the accuracy of our model, we plan to use the following error metrics. The first two metrics can be used when we include a intermediate regression problem and the others can be formulated with the help of a confusion table.\n",
    "* Averaged accuracy\n",
    "* Log-loss\n",
    "* Precision / recall (if biased)\n",
    "* F1 score\n",
    "* ROC-AUC score"
   ]
  },
  {
   "attachments": {},
   "cell_type": "markdown",
   "metadata": {},
   "source": [
    "# Ethics & Privacy\n",
    "\n",
    "Our data does not include any privacy infomation since the wines have no brand or company name attached, nor does it cause ethnic problem for all the scores are recored anonymously. We traced the data first from Kaggle, where it have been made public for year.\n"
   ]
  },
  {
   "cell_type": "markdown",
   "metadata": {},
   "source": [
    "# Team Expectations "
   ]
  },
  {
   "cell_type": "markdown",
   "metadata": {},
   "source": [
    "Our group members have already made group chat so that we can communicate with each other timely at any time. We also determined the regular meeting time to discuss the progress of the project and share any new ideas. The communication within the group is expected to be active. We will divide the work equally, and each member is responsible for his own part, but we would undoubtedly help each other out if anyone faces difficulties. We would review each part of the project and make sure it works well as a whole. Each member should commit to make sure the final work be done by the due date.\n"
   ]
  },
  {
   "cell_type": "markdown",
   "metadata": {},
   "source": [
    "# Project Timeline Proposal"
   ]
  },
  {
   "cell_type": "markdown",
   "metadata": {},
   "source": [
    "\n",
    "| Meeting Date  | Meeting Time| Completed Before Meeting  | Discuss at Meeting |\n",
    "|---|---|---|---|\n",
    "| 2/21  |  8 PM |  Each person finds at least three datasets and prepares to share with group members; Asking any question may have in the group chat, and be prepared to present your part in the meeting | Determine dataset; Write proposal for submission; Discuss basic steps for EDA| \n",
    "| 2/27 |  8 PM |  Submit the proposal; Determine datasets | Assign each person with different task; Discuss about any potential problems | \n",
    "| 3/6  | 8 PM  | Finish individual assigned task; Communicate timely if having any questions;  | Discuss aspects that needed to revise; Go to office hours if needed;|\n",
    "| 3/13  | 8 PM  | Revise each person’s own part according to the suggestions; | Review and finalize;  |\n",
    "| 3/20  | 8 PM  | N/A  | Turn in Final Project & Group Project Survey |"
   ]
  },
  {
   "attachments": {},
   "cell_type": "markdown",
   "metadata": {},
   "source": [
    "# Footnotes\n",
    "\n",
    "<a name=\"wine_trend\"></a>1.[^](#Liz)Thach M. W., Liz(2022, October 12). U.S. wine market sales up 16.8% in 2021, pointing towards hot wine trends in 2022. Forbes. Retrieved February 22, 2023, from https://www.forbes.com/sites/lizthach/2022/04/25/us-wine-market-sales-up-168-in-2021-pointing-towards-hot-wine-trends-in-2022/amp/<br>\n",
    "\n",
    "<a name=\"fraud_wine\"></a>2.[^](#Lana)Bortolot, Lana (2021, August 19). Beyond high-profile scandals, wine fraud is rampant. SevenFifty Daily. Retrieved February 22, 2023, from https://daily.sevenfifty.com/beyond-high-profile-scandals-wine-fraud-is-rampant/<br> "
   ]
  },
  {
   "cell_type": "markdown",
   "metadata": {},
   "source": [
    "[^1]: https://daily.sevenfifty.com/beyond-high-profile-scandals-wine-fraud-is-rampant/"
   ]
  }
 ],
 "metadata": {
  "kernelspec": {
   "display_name": "Python 3",
   "language": "python",
   "name": "python3"
  },
  "language_info": {
   "codemirror_mode": {
    "name": "ipython",
    "version": 3
   },
   "file_extension": ".py",
   "mimetype": "text/x-python",
   "name": "python",
   "nbconvert_exporter": "python",
   "pygments_lexer": "ipython3",
   "version": "3.10.7"
  },
  "vscode": {
   "interpreter": {
    "hash": "1889eb525e013b9db52b2d5f15a28703a6dd0ff2ea9ecd214f06a766ec7c3e7d"
   }
  }
 },
 "nbformat": 4,
 "nbformat_minor": 2
}
