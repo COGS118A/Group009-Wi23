{
 "cells": [
  {
   "cell_type": "markdown",
   "metadata": {},
   "source": [
    "<center>\n",
    "    \n",
    "# COGS 118A Group 9 - Project Proposal"
   ]
  },
  {
   "cell_type": "markdown",
   "metadata": {},
   "source": [
    "# Members\n",
    "\n",
    "* Ellie Zou\n",
    "* Qiqing Li\n",
    "* Walter Qiu\n",
    "* Yaosen Zhang\n",
    "* Yutao Ye"
   ]
  },
  {
   "cell_type": "markdown",
   "metadata": {},
   "source": [
    "# Abstract \n",
    "In this project, we are going to build a supervised machine learning model to predict human wine taste preferences based on a list of physicochemical components in the wine. We will use the Wine Quality Data Set from the UCI Machine Learning Repository, which containes 6497 red and white vinho verde wine samples with their 11 kinds of physicochemical ingredients from analytical tests, acidity and density for example. This dataset also includes the taste quality scores for each wine from experts professional in tasting wines, which will be used as the label/output variables in our approach. To solve this classification problem, we will try different methods such as a K-nearest neighbor classifier, multi-classification variants of SVM and a decision tree. We will also study softmax regression and deep neural networks to find the best model. Our evalutation metrics for the final model will be based on intermedidate loss and accuracy measurements and general, F1 score and ROC-AUC score"
   ]
  },
  {
   "cell_type": "markdown",
   "metadata": {},
   "source": [
    "# Background\n",
    "\n",
    "Wine is an alcohol drink made from fermentated grapes and is one of the longest processed beverages in human drinking history. According to the Gomberg Fredrikson Report, government tax paid data shows that wine sales rises 16.8% in 2021 over 2020 and the total wine sales in 2021, including domestic and imported wine were $78.4 billion<a name=\"wine_trend\">[<sup>[1]</sup>](#Liz)</a>. This had indicated a hot trend in purchasing wines in present and near future. Though we are not very concerned with the stimulus behind this phenomenon, we are curious about what produce a tasty wine in terms of its physical and chemical components. The result we want to find may be of help to guide people to choose good-tasting wines by inspecting their ingredients.\n",
    "\n",
    "Meanwhile, there is a market that sells counterfeit wines of poor quality. The pandemic increases the occurence of fraudulent wines due to travel restrictions, shutdowns, and even layoffs throughout industry channels<a name=\"fraud_wine\"></a>[<sup>[2]</sup>](#Lana). To help customers easily distinguish fake wine, we want to be able to identify the quality of the real, good wine."
   ]
  },
  {
   "cell_type": "markdown",
   "metadata": {},
   "source": [
    "# Problem Statement\n",
    "Flavor variations occur due to the presence of different chemicals in different wines under various conditions. Manipulating these variables can result in a wine with a better flavor profile. Variability and noise play an important role when understanding a situation like this, and statistical models are very effective at identifying key inputs from seemingly utterly chaotic data. This project details how wine tasting data and powerful modeling techniques provide insight into a set of variables that are important to an experienced group. Therefore, we aim to study potential influencing factors affecting wine quality through various regression and classification models to determine whether there is a clear correlation between these potential factors and quality changes."
   ]
  },
  {
   "cell_type": "markdown",
   "metadata": {},
   "source": [
    "# Data\n",
    "Our dataset is the [Wine Quality Data Set](https://archive.ics.uci.edu/ml/datasets/wine+quality) from UCI Machine Learning Repository. The dataset contains 1599 and 4898 samples of the red and white variants of the Portuguese \"Vinho Verde\" wine, respectively. For each sample, there are corresponding 11 input variables based on objective tests (e.g. PH values) and an output variable based on sensory data from the median of at least 3 evaluations made by wine experts, with each expert graded the wine quality between 0 (very bad) and 10 (very excellent). We will use the given physicochemical variables as our input features and the quality scores as the output label. Meanwhile, we treat the wine type (red/white) as an extra input variable. However, since our dataset contains less than 7000 samples, it may not be sufficiently large given that we have more than 10 variables. Meanwhile, the data of wines was collected at 2009, which is potentially outdated. Also, wine tastes vary from person to person, and the scores from the experts may not reflect a general fact.\n",
    "\n",
    "* Here are the 12 input feature variables and 1 output variable:\n",
    "\n",
    "\n",
    "    * fixed acidity\n",
    "    * volatile acidity\n",
    "    * citric acid\n",
    "    * residual sugar\n",
    "    * chlorides\n",
    "    * free sulfur dioxide\n",
    "    * total sulfur dioxide\n",
    "    * density\n",
    "    * pH\n",
    "    * sulphates\n",
    "    * alcohol\n",
    "    * type of wine (white or red) \n",
    "    * quality (score between 0 to 10, output variable)"
   ]
  },
  {
   "cell_type": "markdown",
   "metadata": {},
   "source": [
    "# Proposed Solution\n",
    "Since our primary goal is to predict the quality of the test wine and have a score of between 0 and 10, we have basically a 11-class classification problem. We propose the following algorithms to generate several models to find the best candidate solution.\n",
    "* K-nearest neighbor classifier--To classify a new input vector x, examine the k closest training data points to x and assign the object to the most frequently occurring class.\n",
    "* Multiple binary classifier based on SVM\n",
    "* Decision tree\n",
    "* Softmax regression (can be turned into classification)\n",
    "* Deep neural network\n",
    "The benchmark we use is RandomForestClassifier, A CV accuracy can reach 90.67% in the exist model."
   ]
  },
  {
   "cell_type": "markdown",
   "metadata": {},
   "source": [
    "# Evaluation Metrics\n",
    "To measure the accuracy of our model, we plan to use the following error metrics. The first two metrics can be used when we include a intermediate regression problem and the others can be formulated with the help of a confusion table.\n",
    "* Averaged accuracy\n",
    "* Log-loss\n",
    "* Precision / recall (if biased)\n",
    "* F1 score\n",
    "* ROC-AUC score"
   ]
  },
  {
   "cell_type": "markdown",
   "metadata": {},
   "source": [
    "# Ethics & Privacy\n",
    "\n",
    "Our data does not include any privacy infomation since the wines have no brand or company name attached, nor does it cause ethnic problem for all the scores are recored anonymously. However, the dataset was collected at 2009, and the wines nowadays might differ from those about 10 years ago. \n",
    "\n",
    "Nevertheless, we traced the data first from Kaggle, where it have been made public for years. Though wine tastes vary from person to person, we are not setting a standard but suggesting a model that can serve as a guidance of choosing good wines."
   ]
  },
  {
   "cell_type": "markdown",
   "metadata": {},
   "source": [
    "# Team Expectations "
   ]
  },
  {
   "cell_type": "markdown",
   "metadata": {},
   "source": [
    "Besides using online group discussion channels, group members should be able to meet in-person and brainstorm ideas according to the schedule. We can possibly reschedule the group meetings to resolve any time conflicts from group members. While making collaborative works, we want to make sure that every group member will contributre actively and fairly to the group project. We want to make the most of this project experience so that everyone should be knowledgeable about the project as a whole and can help each other and review each part of the result. We are commited that the work will be done by the due date. For each group meeting, we will have an agenda and notes taken during the meeting."
   ]
  },
  {
   "cell_type": "markdown",
   "metadata": {},
   "source": [
    "# Project Timeline Proposal"
   ]
  },
  {
   "cell_type": "markdown",
   "metadata": {},
   "source": [
    "| Meeting Date  | Meeting Time| Completed Before Meeting  | Discuss at Meeting |\n",
    "|---|---|---|---|\n",
    "| 2/21  |  8 PM |  Each person finds at least three datasets and prepares to share with group members; Asking any question may have in the group chat, and be prepared to present your part in the meeting | Determine dataset; Write proposal for submission; Discuss basic steps for EDA| \n",
    "| 2/27 |  8 PM |  Submit the proposal; Determine datasets | Assign each person with different task; Discuss about any potential problems | \n",
    "| 3/6  | 8 PM  | Finish individual assigned task; Communicate timely if having any questions;  | Discuss aspects that needed to revise; Go to office hours if needed;|\n",
    "| 3/13  | 8 PM  | Revise each person’s own part according to the suggestions; | Review and finalize;  |\n",
    "| 3/20  | 8 PM  | N/A  | Turn in Final Project & Group Project Survey |"
   ]
  },
  {
   "cell_type": "markdown",
   "metadata": {},
   "source": [
    "# Footnotes\n",
    "\n",
    "<a name=\"wine_trend\"></a>1.[^](#Liz)Thach M. W., Liz(2022, October 12). U.S. wine market sales up 16.8% in 2021, pointing towards hot wine trends in 2022. Forbes. Retrieved February 22, 2023, from https://www.forbes.com/sites/lizthach/2022/04/25/us-wine-market-sales-up-168-in-2021-pointing-towards-hot-wine-trends-in-2022/amp/<br>\n",
    "\n",
    "<a name=\"fraud_wine\"></a>2.[^](#Lana)Bortolot, Lana (2021, August 19). Beyond high-profile scandals, wine fraud is rampant. SevenFifty Daily. Retrieved February 22, 2023, from https://daily.sevenfifty.com/beyond-high-profile-scandals-wine-fraud-is-rampant/<br> "
   ]
  },
  {
   "cell_type": "markdown",
   "metadata": {},
   "source": [
    "[^1]: https://daily.sevenfifty.com/beyond-high-profile-scandals-wine-fraud-is-rampant/"
   ]
  }
 ],
 "metadata": {
  "kernelspec": {
   "display_name": "Python 3 (ipykernel)",
   "language": "python",
   "name": "python3"
  },
  "language_info": {
   "codemirror_mode": {
    "name": "ipython",
    "version": 3
   },
   "file_extension": ".py",
   "mimetype": "text/x-python",
   "name": "python",
   "nbconvert_exporter": "python",
   "pygments_lexer": "ipython3",
   "version": "3.9.5"
  },
  "vscode": {
   "interpreter": {
    "hash": "1889eb525e013b9db52b2d5f15a28703a6dd0ff2ea9ecd214f06a766ec7c3e7d"
   }
  }
 },
 "nbformat": 4,
 "nbformat_minor": 2
}
