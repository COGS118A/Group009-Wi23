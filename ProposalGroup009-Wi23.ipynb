{
 "cells": [
  {
   "attachments": {},
   "cell_type": "markdown",
   "metadata": {},
   "source": [
    "# COGS 118A Group 9 - Project Proposal"
   ]
  },
  {
   "attachments": {},
   "cell_type": "markdown",
   "metadata": {},
   "source": [
    "# Names\n",
    "\n",
    "* Ellie Zou\n",
    "* Qiqing Li\n",
    "* Walter Qiu\n",
    "* Yaosen Zhang\n",
    "* Yutao Ye"
   ]
  },
  {
   "cell_type": "markdown",
   "metadata": {},
   "source": [
    "# Abstract \n",
    "Wine classification is a system for categorizing wines based on their characteristics, which helps consumers select wines that meet their taste preferences. The data presents wine’s chemicals from physicochemical tests as well as their qualities rated from score 0 to 10. "
   ]
  },
  {
   "attachments": {},
   "cell_type": "markdown",
   "metadata": {},
   "source": [
    "# Background\n",
    "Wine is an alcohol drink made from grapes by fermentation. Wine is one of the longest processed beverages in human drinking history. From the Romberg & Fredrikson report, total wine sales were $78.4 billion which included domestic and imported wine<a name=\"wine_trend\"></a>[<sup>[1]</sup>](#Liz). Wine is currently the world's largest production, the most popular brewing wine. Nowadays, there is a market that sells poor quality, or counterfeit wines, many businesses profit from the sale of fake wine, some of which ordinary people can't even taste the difference with the real wine. The pandemic increases the opportunity for fraudulent wine due to travel restrictions, shutdowns, and even layoffs throughout industry channels<a name=\"fraud_wine\"></a>[<sup>[2]</sup>](#Lana). To make the customer easier to distinguish the fake wine,  we want to be able to identify the quality of the wine. And different people have different standards for wine.  It is difficult to have a unified standard if it is purely identified by people. By using machine learning, we can easily identify the quality of the wine even if we are not the wine experts. We will have a unified standard to identify the quality of the various chemicals present in wine."
   ]
  },
  {
   "cell_type": "markdown",
   "metadata": {},
   "source": [
    "# Problem Statement\n",
    "Flavor variations occur due to the presence of different chemicals in different wines and differences in various conditions. Manipulating these variables can result in a wine with a better flavor profile. Variability and noise play an important role when understanding a situation like this is required, and statistical models are very effective at identifying key inputs from seemingly utterly chaotic data. This article details how wine tasting data and powerful modeling techniques provide insight into a set of variables that are important to an experienced group. Therefore, we aimed to study potential influencing factors affecting wine quality through various regression models to determine whether there is a clear correlation between these potential factors and quality changes.\n"
   ]
  },
  {
   "cell_type": "markdown",
   "metadata": {},
   "source": [
    "# Data\n",
    "Our dataset is from Kaggle https://www.kaggle.com/datasets/yasserh/wine-quality-dataset. It describes various chemicals present in the wine, which affect its quality. The classification goal is to predict the quality of a wine (score between 0 and 10) based on input variables from physicochemical tests.\n",
    "* The dataset provides the information related to the wine, which includes over 6,000 records and 12 attributes\n",
    "* Variables are\n",
    "    * fixed acidity\n",
    "    * volatile acidity\n",
    "    * citric acid\n",
    "    * residual sugar\n",
    "    * chlorides\n",
    "    * free sulfur dioxide\n",
    "    * total sulfur dioxide\n",
    "    * density\n",
    "    * pH\n",
    "    * sulphates\n",
    "    * alcohol\n",
    "    * quality (score between 0 and 10)\n",
    "    * Type of wine (white or red)\n"
   ]
  },
  {
   "cell_type": "markdown",
   "metadata": {},
   "source": [
    "# Proposed Solution\n",
    "Since our primary goal is to predict the quality of the test wine which arranges from score 0 to score 10, we have basically a 11-class classification problem. We propose the following algorithms to generate several models to find the best candidate solution.\n",
    "* K-nearest neighbor classifier:\n",
    "\n",
    "* Multiple binary classifier based on SVM:\n",
    "\n",
    "* Decision tree:\n",
    "\n",
    "* Softmax regression:\n",
    "\n",
    "* Deep neural network:\n"
   ]
  },
  {
   "cell_type": "markdown",
   "metadata": {},
   "source": [
    "# Evaluation Metrics\n",
    "To measure the accuracy of our model, we plan to use the following error metrics:\n",
    "* Averaged accuracy\n",
    "* Log-loss\n",
    "* F1 score\n",
    "* ROC-AUC score\n",
    "* Precision\n",
    "\n",
    "We will use confusion matrix to show the evaluations and errors,\n"
   ]
  },
  {
   "cell_type": "markdown",
   "metadata": {},
   "source": [
    "# Ethics & Privacy\n",
    "\n",
    "The data is related to the information about wine, so we do not worry too much about ethinics and privacy since it does not relate to human subjects. In addition, we find out dataset in Kaggle, so it is a public available dataset. Also, the dataset does not include the brands of the wines, there will be no violation of privacy. \n",
    "However, the size of dataset is near 5000, we might have some limitation here for not have a large enough dataset size. What’s more, our dataset was collected at 2009, the wines nowadays might differ from 15 years ago. Also, wine tastes vary from person to person, and the qualities we are discussing here may vary from person to person.\n"
   ]
  },
  {
   "cell_type": "markdown",
   "metadata": {},
   "source": [
    "# Team Expectations "
   ]
  },
  {
   "cell_type": "markdown",
   "metadata": {},
   "source": [
    "Our group members have already made group chat so that we can communicate with each other timely at any time. We also determined the regular meeting time to discuss the progress of the project and share any new ideas. The communication within the group is expected to be active. We will divide the work equally, and each member is responsible for his own part, but we would undoubtedly help each other out if anyone faces difficulties. We would review each part of the project and make sure it works well as a whole. Each member should commit to make sure the final work be done by the due date.\n"
   ]
  },
  {
   "cell_type": "markdown",
   "metadata": {},
   "source": [
    "# Project Timeline Proposal"
   ]
  },
  {
   "cell_type": "markdown",
   "metadata": {},
   "source": [
    "\n",
    "| Meeting Date  | Meeting Time| Completed Before Meeting  | Discuss at Meeting |\n",
    "|---|---|---|---|\n",
    "| 2/21  |  8 PM |  Each person finds at least three datasets and prepares to share with group members; Asking any question may have in the group chat, and be prepared to present your part in the meeting | Determine dataset; Write proposal for submission; Discuss basic steps for EDA| \n",
    "| 2/27 |  8 PM |  Submit the proposal (10/22 Wed..); Determine datasets | Assign each person with different task; Discuss about any potential problems | \n",
    "| 3/6  | 8 PM  | Finish individual assigned task; Communicate timely if having any questions;  | Discuss aspects that needed to revise; Go to office hours if needed;|\n",
    "| 3/13  | 8 PM  | Revise each person’s own part according to the suggestions; | Review and finalize;  |\n",
    "| 3/20  | 8 PM  | N/A  | Turn in Final Project & Group Project Survey |"
   ]
  },
  {
   "attachments": {},
   "cell_type": "markdown",
   "metadata": {},
   "source": [
    "# Footnotes\n",
    "\n",
    "<a name=\"wine_trend\"></a>1.[^](#Liz)Thach M. W., Liz(2022, October 12). U.S. wine market sales up 16.8% in 2021, pointing towards hot wine trends in 2022. Forbes. Retrieved February 22, 2023, from https://www.forbes.com/sites/lizthach/2022/04/25/us-wine-market-sales-up-168-in-2021-pointing-towards-hot-wine-trends-in-2022/amp/<br>\n",
    "\n",
    "<a name=\"fraud_wine\"></a>2.[^](#Lana)Bortolot, Lana (2021, August 19). Beyond high-profile scandals, wine fraud is rampant. SevenFifty Daily. Retrieved February 22, 2023, from https://daily.sevenfifty.com/beyond-high-profile-scandals-wine-fraud-is-rampant/<br> "
   ]
  },
  {
   "cell_type": "markdown",
   "metadata": {},
   "source": [
    "[^1]: https://daily.sevenfifty.com/beyond-high-profile-scandals-wine-fraud-is-rampant/"
   ]
  }
 ],
 "metadata": {
  "kernelspec": {
   "display_name": "Python 3",
   "language": "python",
   "name": "python3"
  },
  "language_info": {
   "codemirror_mode": {
    "name": "ipython",
    "version": 3
   },
   "file_extension": ".py",
   "mimetype": "text/x-python",
   "name": "python",
   "nbconvert_exporter": "python",
   "pygments_lexer": "ipython3",
   "version": "3.10.7"
  },
  "vscode": {
   "interpreter": {
    "hash": "1889eb525e013b9db52b2d5f15a28703a6dd0ff2ea9ecd214f06a766ec7c3e7d"
   }
  }
 },
 "nbformat": 4,
 "nbformat_minor": 2
}
